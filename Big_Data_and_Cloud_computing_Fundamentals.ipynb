{
  "nbformat": 4,
  "nbformat_minor": 0,
  "metadata": {
    "colab": {
      "provenance": [],
      "authorship_tag": "ABX9TyM7oo2r0O/CD7mt2O1+UOYt",
      "include_colab_link": true
    },
    "kernelspec": {
      "name": "python3",
      "display_name": "Python 3"
    },
    "language_info": {
      "name": "python"
    }
  },
  "cells": [
    {
      "cell_type": "markdown",
      "metadata": {
        "id": "view-in-github",
        "colab_type": "text"
      },
      "source": [
        "<a href=\"https://colab.research.google.com/github/kartik937/kartik937/blob/main/Big_Data_and_Cloud_computing_Fundamentals.ipynb\" target=\"_parent\"><img src=\"https://colab.research.google.com/assets/colab-badge.svg\" alt=\"Open In Colab\"/></a>"
      ]
    },
    {
      "cell_type": "code",
      "execution_count": null,
      "metadata": {
        "id": "fGcz4lzu9nzB"
      },
      "outputs": [],
      "source": []
    },
    {
      "cell_type": "markdown",
      "source": [
        "**Big Data**"
      ],
      "metadata": {
        "id": "N1K1ttxk92lK"
      }
    },
    {
      "cell_type": "code",
      "source": [
        "!pip install pyspark"
      ],
      "metadata": {
        "colab": {
          "base_uri": "https://localhost:8080/"
        },
        "id": "bsRyj3Gz-cnX",
        "outputId": "52686a5b-f840-4ae1-f133-9799ba677b23"
      },
      "execution_count": null,
      "outputs": [
        {
          "output_type": "stream",
          "name": "stdout",
          "text": [
            "Collecting pyspark\n",
            "  Downloading pyspark-3.5.1.tar.gz (317.0 MB)\n",
            "\u001b[2K     \u001b[90m━━━━━━━━━━━━━━━━━━━━━━━━━━━━━━━━━━━━━━━━\u001b[0m \u001b[32m317.0/317.0 MB\u001b[0m \u001b[31m3.4 MB/s\u001b[0m eta \u001b[36m0:00:00\u001b[0m\n",
            "\u001b[?25h  Preparing metadata (setup.py) ... \u001b[?25l\u001b[?25hdone\n",
            "Requirement already satisfied: py4j==0.10.9.7 in /usr/local/lib/python3.10/dist-packages (from pyspark) (0.10.9.7)\n",
            "Building wheels for collected packages: pyspark\n",
            "  Building wheel for pyspark (setup.py) ... \u001b[?25l\u001b[?25hdone\n",
            "  Created wheel for pyspark: filename=pyspark-3.5.1-py2.py3-none-any.whl size=317488491 sha256=6a87b3d2a2865b312fd64985058dbedebc35dac13a84b91f9072db52dbe7df0e\n",
            "  Stored in directory: /root/.cache/pip/wheels/80/1d/60/2c256ed38dddce2fdd93be545214a63e02fbd8d74fb0b7f3a6\n",
            "Successfully built pyspark\n",
            "Installing collected packages: pyspark\n",
            "Successfully installed pyspark-3.5.1\n"
          ]
        }
      ]
    },
    {
      "cell_type": "code",
      "source": [
        "import pyspark"
      ],
      "metadata": {
        "id": "8-B5uajr_hWb"
      },
      "execution_count": 15,
      "outputs": []
    },
    {
      "cell_type": "code",
      "source": [
        "from pyspark.sql import SparkSession"
      ],
      "metadata": {
        "id": "sgom1cn02C9Z"
      },
      "execution_count": 16,
      "outputs": []
    },
    {
      "cell_type": "code",
      "source": [
        "spark = SparkSession.builder.getOrCreate()"
      ],
      "metadata": {
        "id": "R6IFx-k8GDM7"
      },
      "execution_count": 17,
      "outputs": []
    },
    {
      "cell_type": "code",
      "source": [
        "spark"
      ],
      "metadata": {
        "colab": {
          "base_uri": "https://localhost:8080/",
          "height": 219
        },
        "id": "67IxhlQ5GbAT",
        "outputId": "31610710-dad0-4efc-8e35-660a38fd84f2"
      },
      "execution_count": 18,
      "outputs": [
        {
          "output_type": "execute_result",
          "data": {
            "text/plain": [
              "<pyspark.sql.session.SparkSession at 0x7cebbf58f1c0>"
            ],
            "text/html": [
              "\n",
              "            <div>\n",
              "                <p><b>SparkSession - in-memory</b></p>\n",
              "                \n",
              "        <div>\n",
              "            <p><b>SparkContext</b></p>\n",
              "\n",
              "            <p><a href=\"http://3319124b8280:4040\">Spark UI</a></p>\n",
              "\n",
              "            <dl>\n",
              "              <dt>Version</dt>\n",
              "                <dd><code>v3.5.1</code></dd>\n",
              "              <dt>Master</dt>\n",
              "                <dd><code>local[*]</code></dd>\n",
              "              <dt>AppName</dt>\n",
              "                <dd><code>pyspark-shell</code></dd>\n",
              "            </dl>\n",
              "        </div>\n",
              "        \n",
              "            </div>\n",
              "        "
            ]
          },
          "metadata": {},
          "execution_count": 18
        }
      ]
    },
    {
      "cell_type": "code",
      "source": [
        "#spark.stop()"
      ],
      "metadata": {
        "id": "U0Gv9nqsG-1f"
      },
      "execution_count": 19,
      "outputs": []
    },
    {
      "cell_type": "code",
      "source": [
        "sdf = spark.read.csv('/content/HR50k (1).csv')"
      ],
      "metadata": {
        "id": "VEzyzlcDAe2U"
      },
      "execution_count": 20,
      "outputs": []
    },
    {
      "cell_type": "code",
      "source": [
        "sdf.show()"
      ],
      "metadata": {
        "colab": {
          "base_uri": "https://localhost:8080/"
        },
        "id": "DnILEI_7Cv9b",
        "outputId": "35eecad3-394d-4892-c74e-561ccd9bdb33"
      },
      "execution_count": 21,
      "outputs": [
        {
          "output_type": "stream",
          "name": "stdout",
          "text": [
            "+---+---------+-----------------+---------+--------------------+----------------+---------+----------------+-------------+--------------+--------------------+------+----------+--------------+--------+--------------------+---------------+-------------+-------------+-----------+------------------+------+--------+-----------------+-----------------+--------------------+-------------+----------------+-----------------+--------------------+---------------+--------------+------------------+--------------------+--------------------+\n",
            "|_c0|      _c1|              _c2|      _c3|                 _c4|             _c5|      _c6|             _c7|          _c8|           _c9|                _c10|  _c11|      _c12|          _c13|    _c14|                _c15|           _c16|         _c17|         _c18|       _c19|              _c20|  _c21|    _c22|             _c23|             _c24|                _c25|         _c26|            _c27|             _c28|                _c29|           _c30|          _c31|              _c32|                _c33|                _c34|\n",
            "+---+---------+-----------------+---------+--------------------+----------------+---------+----------------+-------------+--------------+--------------------+------+----------+--------------+--------+--------------------+---------------+-------------+-------------+-----------+------------------+------+--------+-----------------+-----------------+--------------------+-------------+----------------+-----------------+--------------------+---------------+--------------+------------------+--------------------+--------------------+\n",
            "|Age|Attrition|   BusinessTravel|DailyRate|          Department|DistanceFromHome|Education|  EducationField|EmployeeCount|EmployeeNumber|EnvironmentSatisf...|Gender|HourlyRate|JobInvolvement|JobLevel|             JobRole|JobSatisfaction|MaritalStatus|MonthlyIncome|MonthlyRate|NumCompaniesWorked|Over18|OverTime|PercentSalaryHike|PerformanceRating|RelationshipSatis...|StandardHours|StockOptionLevel|TotalWorkingYears|TrainingTimesLast...|WorkLifeBalance|YearsAtCompany|YearsInCurrentRole|YearsSinceLastPro...|YearsWithCurrManager|\n",
            "| 31|       No|       Non-Travel|      158|            Software|               7|        3|         Medical|            1|             1|                   3|  Male|        42|             2|       3|           Developer|              1|      Married|        42682|     298774|                 2|     Y|      No|               20|                4|                   1|           80|               2|               15|                   1|              2|            12|                 4|                  10|                  11|\n",
            "| 38|       No|    Travel_Rarely|      985|     Human Resources|              33|        5|   Life Sciences|            1|             2|                   1|Female|        66|             2|       4|Healthcare Repres...|              3|       Single|        45252|      45252|                 8|     Y|      No|                2|                1|                   3|           80|               4|                5|                   4|              3|             1|                 1|                   1|                   1|\n",
            "| 59|      Yes|       Non-Travel|     1273|               Sales|               5|        2|Technical Degree|            1|             3|                   4|Female|        96|             1|       3|Manufacturing Dir...|              2|      Married|        46149|     507639|                 7|     Y|     Yes|               39|                3|                   2|           80|               2|                9|                   5|              1|             6|                 6|                   4|                   3|\n",
            "| 52|      Yes|    Travel_Rarely|      480|             Support|               2|        5|       Marketing|            1|             4|                   4|Female|        71|             2|       4|     Human Resources|              1|      Married|        27150|      27150|                 4|     Y|      No|               16|                3|                   2|           80|               2|               22|                   4|              4|            10|                 9|                   5|                   6|\n",
            "| 32|       No|       Non-Travel|      543|     Human Resources|               7|        5| Human Resources|            1|             5|                   2|  Male|       122|             3|       3|             Manager|              2|     Divorced|        15894|      47682|                 6|     Y|     Yes|               42|                3|                   4|           80|               2|               30|                   3|              4|            29|                27|                   9|                   7|\n",
            "| 19|      Yes|       Non-Travel|      779|            Hardware|              43|        1|         Medical|            1|             6|                   2|Female|       195|             4|       3|   Research Director|              3|      Married|        41552|    1246560|                 3|     Y|     Yes|               15|                4|                   3|           80|               1|               33|                   4|              2|            16|                 4|                  14|                   3|\n",
            "| 42|      Yes|       Non-Travel|      934|             Support|              26|        4| Human Resources|            1|             7|                   2|Female|        80|             3|       5|     Sales Executive|              4|     Divorced|         5303|     148484|                 3|     Y|      No|               45|                4|                   1|           80|               1|                4|                   3|              4|             2|                 1|                   1|                   2|\n",
            "| 30|       No|    Travel_Rarely|      380|             Support|              19|        3|       Marketing|            1|             8|                   4|  Male|       165|             1|       4|     Human Resources|              4|       Single|        28555|     571100|                 2|     Y|     Yes|               35|                3|                   2|           80|               1|                2|                   2|              2|             2|                 2|                   2|                   2|\n",
            "| 41|       No|Travel_Frequently|     1464|            Software|              16|        1|   Life Sciences|            1|             9|                   3|  Male|       134|             1|       2|             Manager|              4|     Divorced|         3241|      87507|                 7|     Y|      No|                1|                1|                   3|           80|               2|                8|                   1|              2|             2|                 1|                   2|                   2|\n",
            "| 45|       No|Travel_Frequently|     1020|     Human Resources|              17|        5|   Life Sciences|            1|            10|                   4|Female|       137|             2|       4|             Manager|              2|      Married|         4323|     116721|                 4|     Y|     Yes|               32|                1|                   3|           80|               4|                6|                   4|              4|             5|                 3|                   4|                   1|\n",
            "| 36|       No|    Travel_Rarely|      987|               Sales|              33|        4|           Other|            1|            11|                   3|  Male|       159|             3|       1|     Human Resources|              3|      Married|        10587|      95283|                 0|     Y|     Yes|               47|                4|                   2|           80|               1|               38|                   3|              4|            24|                19|                   8|                   6|\n",
            "| 23|       No|Travel_Frequently|      135|     Human Resources|              20|        4|   Life Sciences|            1|            12|                   2|Female|        51|             2|       2|Manufacturing Dir...|              2|     Divorced|         7446|     141474|                 8|     Y|     Yes|               44|                1|                   2|           80|               4|               16|                   5|              3|             8|                 6|                   7|                   6|\n",
            "| 24|      Yes|       Non-Travel|     1086|             Support|              15|        1|       Marketing|            1|            13|                   4|Female|       189|             3|       1|Manufacturing Dir...|              4|      Married|        34153|     648907|                 7|     Y|      No|               17|                1|                   3|           80|               1|               30|                   2|              2|            15|                 3|                   8|                   4|\n",
            "| 39|      Yes|       Non-Travel|      673|Research & Develo...|              16|        2| Human Resources|            1|            14|                   2|Female|        69|             4|       2|     Sales Executive|              2|      Married|        47844|     382752|                 1|     Y|      No|               47|                1|                   4|           80|               1|               14|                   4|              2|            13|                 9|                  11|                   5|\n",
            "| 42|      Yes|    Travel_Rarely|      145|     Human Resources|              31|        3|   Life Sciences|            1|            15|                   3|  Male|       127|             3|       1|           Developer|              4|      Married|        21432|      21432|                 4|     Y|     Yes|               48|                2|                   1|           80|               4|                2|                   6|              2|             1|                 1|                   1|                   1|\n",
            "| 44|      Yes|Travel_Frequently|      717|            Software|              10|        2| Human Resources|            1|            16|                   3|Female|       151|             1|       5|Sales Representative|              4|     Divorced|        50393|    1058253|                 6|     Y|     Yes|               42|                2|                   1|           80|               2|               27|                   3|              1|            27|                13|                  18|                  18|\n",
            "| 50|      Yes|Travel_Frequently|      460|Research & Develo...|              10|        4| Human Resources|            1|            17|                   4|  Male|       181|             2|       5|             Manager|              3|     Divorced|        22090|      66270|                 7|     Y|      No|               19|                2|                   1|           80|               2|               14|                   3|              3|             5|                 3|                   4|                   5|\n",
            "| 42|       No|    Travel_Rarely|     1422|            Software|              26|        4|   Life Sciences|            1|            18|                   4|Female|        92|             4|       5|           Developer|              3|       Single|        47968|      47968|                 3|     Y|     Yes|               41|                4|                   2|           80|               1|                5|                   4|              3|             4|                 1|                   2|                   3|\n",
            "| 49|       No|Travel_Frequently|      129|Research & Develo...|              41|        1|Technical Degree|            1|            19|                   3|Female|        81|             2|       1|             Manager|              1|     Divorced|        24665|      98660|                 0|     Y|      No|               17|                2|                   3|           80|               4|                7|                   1|              3|             6|                 4|                   3|                   4|\n",
            "+---+---------+-----------------+---------+--------------------+----------------+---------+----------------+-------------+--------------+--------------------+------+----------+--------------+--------+--------------------+---------------+-------------+-------------+-----------+------------------+------+--------+-----------------+-----------------+--------------------+-------------+----------------+-----------------+--------------------+---------------+--------------+------------------+--------------------+--------------------+\n",
            "only showing top 20 rows\n",
            "\n"
          ]
        }
      ]
    },
    {
      "cell_type": "code",
      "source": [
        "sdf.dtypes"
      ],
      "metadata": {
        "colab": {
          "base_uri": "https://localhost:8080/"
        },
        "id": "1lMkZUzuC7sN",
        "outputId": "739c5407-3713-40f4-eba7-e61fc2b294fe"
      },
      "execution_count": 22,
      "outputs": [
        {
          "output_type": "execute_result",
          "data": {
            "text/plain": [
              "[('_c0', 'string'),\n",
              " ('_c1', 'string'),\n",
              " ('_c2', 'string'),\n",
              " ('_c3', 'string'),\n",
              " ('_c4', 'string'),\n",
              " ('_c5', 'string'),\n",
              " ('_c6', 'string'),\n",
              " ('_c7', 'string'),\n",
              " ('_c8', 'string'),\n",
              " ('_c9', 'string'),\n",
              " ('_c10', 'string'),\n",
              " ('_c11', 'string'),\n",
              " ('_c12', 'string'),\n",
              " ('_c13', 'string'),\n",
              " ('_c14', 'string'),\n",
              " ('_c15', 'string'),\n",
              " ('_c16', 'string'),\n",
              " ('_c17', 'string'),\n",
              " ('_c18', 'string'),\n",
              " ('_c19', 'string'),\n",
              " ('_c20', 'string'),\n",
              " ('_c21', 'string'),\n",
              " ('_c22', 'string'),\n",
              " ('_c23', 'string'),\n",
              " ('_c24', 'string'),\n",
              " ('_c25', 'string'),\n",
              " ('_c26', 'string'),\n",
              " ('_c27', 'string'),\n",
              " ('_c28', 'string'),\n",
              " ('_c29', 'string'),\n",
              " ('_c30', 'string'),\n",
              " ('_c31', 'string'),\n",
              " ('_c32', 'string'),\n",
              " ('_c33', 'string'),\n",
              " ('_c34', 'string')]"
            ]
          },
          "metadata": {},
          "execution_count": 22
        }
      ]
    },
    {
      "cell_type": "code",
      "source": [
        "sdf.show(2)"
      ],
      "metadata": {
        "colab": {
          "base_uri": "https://localhost:8080/"
        },
        "id": "uMmPvVTDDrGQ",
        "outputId": "749a1fcc-4f6c-40a9-d542-5a32943bf1eb"
      },
      "execution_count": 23,
      "outputs": [
        {
          "output_type": "stream",
          "name": "stdout",
          "text": [
            "+---+---------+--------------+---------+----------+----------------+---------+--------------+-------------+--------------+--------------------+------+----------+--------------+--------+---------+---------------+-------------+-------------+-----------+------------------+------+--------+-----------------+-----------------+--------------------+-------------+----------------+-----------------+--------------------+---------------+--------------+------------------+--------------------+--------------------+\n",
            "|_c0|      _c1|           _c2|      _c3|       _c4|             _c5|      _c6|           _c7|          _c8|           _c9|                _c10|  _c11|      _c12|          _c13|    _c14|     _c15|           _c16|         _c17|         _c18|       _c19|              _c20|  _c21|    _c22|             _c23|             _c24|                _c25|         _c26|            _c27|             _c28|                _c29|           _c30|          _c31|              _c32|                _c33|                _c34|\n",
            "+---+---------+--------------+---------+----------+----------------+---------+--------------+-------------+--------------+--------------------+------+----------+--------------+--------+---------+---------------+-------------+-------------+-----------+------------------+------+--------+-----------------+-----------------+--------------------+-------------+----------------+-----------------+--------------------+---------------+--------------+------------------+--------------------+--------------------+\n",
            "|Age|Attrition|BusinessTravel|DailyRate|Department|DistanceFromHome|Education|EducationField|EmployeeCount|EmployeeNumber|EnvironmentSatisf...|Gender|HourlyRate|JobInvolvement|JobLevel|  JobRole|JobSatisfaction|MaritalStatus|MonthlyIncome|MonthlyRate|NumCompaniesWorked|Over18|OverTime|PercentSalaryHike|PerformanceRating|RelationshipSatis...|StandardHours|StockOptionLevel|TotalWorkingYears|TrainingTimesLast...|WorkLifeBalance|YearsAtCompany|YearsInCurrentRole|YearsSinceLastPro...|YearsWithCurrManager|\n",
            "| 31|       No|    Non-Travel|      158|  Software|               7|        3|       Medical|            1|             1|                   3|  Male|        42|             2|       3|Developer|              1|      Married|        42682|     298774|                 2|     Y|      No|               20|                4|                   1|           80|               2|               15|                   1|              2|            12|                 4|                  10|                  11|\n",
            "+---+---------+--------------+---------+----------+----------------+---------+--------------+-------------+--------------+--------------------+------+----------+--------------+--------+---------+---------------+-------------+-------------+-----------+------------------+------+--------+-----------------+-----------------+--------------------+-------------+----------------+-----------------+--------------------+---------------+--------------+------------------+--------------------+--------------------+\n",
            "only showing top 2 rows\n",
            "\n"
          ]
        }
      ]
    },
    {
      "cell_type": "code",
      "source": [
        "sdf.printSchema()"
      ],
      "metadata": {
        "colab": {
          "base_uri": "https://localhost:8080/"
        },
        "id": "FL8aRYssD29E",
        "outputId": "267ab33e-e81b-4afd-c7c9-9b0f86e4ac66"
      },
      "execution_count": 24,
      "outputs": [
        {
          "output_type": "stream",
          "name": "stdout",
          "text": [
            "root\n",
            " |-- _c0: string (nullable = true)\n",
            " |-- _c1: string (nullable = true)\n",
            " |-- _c2: string (nullable = true)\n",
            " |-- _c3: string (nullable = true)\n",
            " |-- _c4: string (nullable = true)\n",
            " |-- _c5: string (nullable = true)\n",
            " |-- _c6: string (nullable = true)\n",
            " |-- _c7: string (nullable = true)\n",
            " |-- _c8: string (nullable = true)\n",
            " |-- _c9: string (nullable = true)\n",
            " |-- _c10: string (nullable = true)\n",
            " |-- _c11: string (nullable = true)\n",
            " |-- _c12: string (nullable = true)\n",
            " |-- _c13: string (nullable = true)\n",
            " |-- _c14: string (nullable = true)\n",
            " |-- _c15: string (nullable = true)\n",
            " |-- _c16: string (nullable = true)\n",
            " |-- _c17: string (nullable = true)\n",
            " |-- _c18: string (nullable = true)\n",
            " |-- _c19: string (nullable = true)\n",
            " |-- _c20: string (nullable = true)\n",
            " |-- _c21: string (nullable = true)\n",
            " |-- _c22: string (nullable = true)\n",
            " |-- _c23: string (nullable = true)\n",
            " |-- _c24: string (nullable = true)\n",
            " |-- _c25: string (nullable = true)\n",
            " |-- _c26: string (nullable = true)\n",
            " |-- _c27: string (nullable = true)\n",
            " |-- _c28: string (nullable = true)\n",
            " |-- _c29: string (nullable = true)\n",
            " |-- _c30: string (nullable = true)\n",
            " |-- _c31: string (nullable = true)\n",
            " |-- _c32: string (nullable = true)\n",
            " |-- _c33: string (nullable = true)\n",
            " |-- _c34: string (nullable = true)\n",
            "\n"
          ]
        }
      ]
    },
    {
      "cell_type": "code",
      "source": [
        "sdf.columns"
      ],
      "metadata": {
        "colab": {
          "base_uri": "https://localhost:8080/"
        },
        "id": "s052j173EK3c",
        "outputId": "2311c460-26d0-4b2c-8d6b-8626f55ea9c0"
      },
      "execution_count": 25,
      "outputs": [
        {
          "output_type": "execute_result",
          "data": {
            "text/plain": [
              "['_c0',\n",
              " '_c1',\n",
              " '_c2',\n",
              " '_c3',\n",
              " '_c4',\n",
              " '_c5',\n",
              " '_c6',\n",
              " '_c7',\n",
              " '_c8',\n",
              " '_c9',\n",
              " '_c10',\n",
              " '_c11',\n",
              " '_c12',\n",
              " '_c13',\n",
              " '_c14',\n",
              " '_c15',\n",
              " '_c16',\n",
              " '_c17',\n",
              " '_c18',\n",
              " '_c19',\n",
              " '_c20',\n",
              " '_c21',\n",
              " '_c22',\n",
              " '_c23',\n",
              " '_c24',\n",
              " '_c25',\n",
              " '_c26',\n",
              " '_c27',\n",
              " '_c28',\n",
              " '_c29',\n",
              " '_c30',\n",
              " '_c31',\n",
              " '_c32',\n",
              " '_c33',\n",
              " '_c34']"
            ]
          },
          "metadata": {},
          "execution_count": 25
        }
      ]
    },
    {
      "cell_type": "code",
      "source": [
        "sdf.describe"
      ],
      "metadata": {
        "colab": {
          "base_uri": "https://localhost:8080/",
          "height": 187
        },
        "id": "tueu6SQUK1-z",
        "outputId": "f3ee4059-7652-41e8-f223-33aeb0c2fd99"
      },
      "execution_count": 47,
      "outputs": [
        {
          "output_type": "execute_result",
          "data": {
            "text/plain": [
              "<bound method DataFrame.describe of DataFrame[_c0: string, _c1: string, _c2: string, _c3: string, _c4: string, _c5: string, _c6: string, _c7: string, _c8: string, _c9: string, _c10: string, _c11: string, _c12: string, _c13: string, _c14: string, _c15: string, _c16: string, _c17: string, _c18: string, _c19: string, _c20: string, _c21: string, _c22: string, _c23: string, _c24: string, _c25: string, _c26: string, _c27: string, _c28: string, _c29: string, _c30: string, _c31: string, _c32: string, _c33: string, _c34: string]>"
            ],
            "text/html": [
              "<div style=\"max-width:800px; border: 1px solid var(--colab-border-color);\"><style>\n",
              "      pre.function-repr-contents {\n",
              "        overflow-x: auto;\n",
              "        padding: 8px 12px;\n",
              "        max-height: 500px;\n",
              "      }\n",
              "\n",
              "      pre.function-repr-contents.function-repr-contents-collapsed {\n",
              "        cursor: pointer;\n",
              "        max-height: 100px;\n",
              "      }\n",
              "    </style>\n",
              "    <pre style=\"white-space: initial; background:\n",
              "         var(--colab-secondary-surface-color); padding: 8px 12px;\n",
              "         border-bottom: 1px solid var(--colab-border-color);\"><b>pyspark.sql.dataframe.DataFrame.describe</b><br/>def describe(*cols: Union[str, List[str]]) -&gt; &#x27;DataFrame&#x27;</pre><pre class=\"function-repr-contents function-repr-contents-collapsed\" style=\"\"><a class=\"filepath\" style=\"display:none\" href=\"#\">/usr/local/lib/python3.10/dist-packages/pyspark/sql/dataframe.py</a>Computes basic statistics for numeric and string columns.\n",
              "\n",
              ".. versionadded:: 1.3.1\n",
              "\n",
              ".. versionchanged:: 3.4.0\n",
              "    Supports Spark Connect.\n",
              "\n",
              "This includes count, mean, stddev, min, and max. If no columns are\n",
              "given, this function computes statistics for all numerical or string columns.\n",
              "\n",
              "Notes\n",
              "-----\n",
              "This function is meant for exploratory data analysis, as we make no\n",
              "guarantee about the backward compatibility of the schema of the resulting\n",
              ":class:`DataFrame`.\n",
              "\n",
              "Use summary for expanded statistics and control over which statistics to compute.\n",
              "\n",
              "Parameters\n",
              "----------\n",
              "cols : str, list, optional\n",
              "     Column name or list of column names to describe by (default All columns).\n",
              "\n",
              "Returns\n",
              "-------\n",
              ":class:`DataFrame`\n",
              "    A new DataFrame that describes (provides statistics) given DataFrame.\n",
              "\n",
              "Examples\n",
              "--------\n",
              "&gt;&gt;&gt; df = spark.createDataFrame(\n",
              "...     [(&quot;Bob&quot;, 13, 40.3, 150.5), (&quot;Alice&quot;, 12, 37.8, 142.3), (&quot;Tom&quot;, 11, 44.1, 142.2)],\n",
              "...     [&quot;name&quot;, &quot;age&quot;, &quot;weight&quot;, &quot;height&quot;],\n",
              "... )\n",
              "&gt;&gt;&gt; df.describe([&#x27;age&#x27;]).show()\n",
              "+-------+----+\n",
              "|summary| age|\n",
              "+-------+----+\n",
              "|  count|   3|\n",
              "|   mean|12.0|\n",
              "| stddev| 1.0|\n",
              "|    min|  11|\n",
              "|    max|  13|\n",
              "+-------+----+\n",
              "\n",
              "&gt;&gt;&gt; df.describe([&#x27;age&#x27;, &#x27;weight&#x27;, &#x27;height&#x27;]).show()\n",
              "+-------+----+------------------+-----------------+\n",
              "|summary| age|            weight|           height|\n",
              "+-------+----+------------------+-----------------+\n",
              "|  count|   3|                 3|                3|\n",
              "|   mean|12.0| 40.73333333333333|            145.0|\n",
              "| stddev| 1.0|3.1722757341273704|4.763402145525822|\n",
              "|    min|  11|              37.8|            142.2|\n",
              "|    max|  13|              44.1|            150.5|\n",
              "+-------+----+------------------+-----------------+\n",
              "\n",
              "See Also\n",
              "--------\n",
              "DataFrame.summary</pre>\n",
              "      <script>\n",
              "      if (google.colab.kernel.accessAllowed && google.colab.files && google.colab.files.view) {\n",
              "        for (const element of document.querySelectorAll('.filepath')) {\n",
              "          element.style.display = 'block'\n",
              "          element.onclick = (event) => {\n",
              "            event.preventDefault();\n",
              "            event.stopPropagation();\n",
              "            google.colab.files.view(element.textContent, 2791);\n",
              "          };\n",
              "        }\n",
              "      }\n",
              "      for (const element of document.querySelectorAll('.function-repr-contents')) {\n",
              "        element.onclick = (event) => {\n",
              "          event.preventDefault();\n",
              "          event.stopPropagation();\n",
              "          element.classList.toggle('function-repr-contents-collapsed');\n",
              "        };\n",
              "      }\n",
              "      </script>\n",
              "      </div>"
            ]
          },
          "metadata": {},
          "execution_count": 47
        }
      ]
    },
    {
      "cell_type": "code",
      "source": [
        "sdf.describe().show()"
      ],
      "metadata": {
        "colab": {
          "base_uri": "https://localhost:8080/"
        },
        "id": "Bttq5lPbEQvF",
        "outputId": "9a757511-7f26-4d57-96ca-f336044e35a2"
      },
      "execution_count": 49,
      "outputs": [
        {
          "output_type": "stream",
          "name": "stdout",
          "text": [
            "+-------+-----------------+---------+--------------+------------------+----------+------------------+------------------+----------------+-------------+-----------------+--------------------+------+-----------------+-----------------+------------------+--------------------+------------------+--------+------------------+------------------+------------------+------+-----+------------------+------------------+--------------------+-------------+------------------+------------------+--------------------+------------------+-----------------+------------------+--------------------+--------------------+\n",
            "|summary|              _c0|      _c1|           _c2|               _c3|       _c4|               _c5|               _c6|             _c7|          _c8|              _c9|                _c10|  _c11|             _c12|             _c13|              _c14|                _c15|              _c16|    _c17|              _c18|              _c19|              _c20|  _c21| _c22|              _c23|              _c24|                _c25|         _c26|              _c27|              _c28|                _c29|              _c30|             _c31|              _c32|                _c33|                _c34|\n",
            "+-------+-----------------+---------+--------------+------------------+----------+------------------+------------------+----------------+-------------+-----------------+--------------------+------+-----------------+-----------------+------------------+--------------------+------------------+--------+------------------+------------------+------------------+------+-----+------------------+------------------+--------------------+-------------+------------------+------------------+--------------------+------------------+-----------------+------------------+--------------------+--------------------+\n",
            "|  count|            50001|    50001|         50001|             50001|     50001|             50001|             50001|           50001|        50001|            50001|               50001| 50001|            50001|            50001|             50001|               50001|             50001|   50001|             50001|             50001|             50001| 50001|50001|             50001|             50001|               50001|        50001|             50001|             50001|               50001|             50001|            50001|             50001|               50001|               50001|\n",
            "|   mean|         38.97148|     NULL|          NULL|         798.67756|      NULL|          25.53978|            3.0046|            NULL|          1.0|          25000.5|             2.49836|  NULL|        115.43294|          2.50262|           2.99464|                NULL|           2.48738|    NULL|       26015.78126|      404043.57942|             3.999|  NULL| NULL|          24.61832|           2.49596|             2.50222|         80.0|           2.50378|          20.49686|             3.49398|           2.49872|          10.7711|            5.9073|             5.87182|             5.88904|\n",
            "| stddev|12.42083379455027|     NULL|          NULL|405.08021678685725|      NULL|14.339955726507823|1.4142485078573823|            NULL|          0.0|14433.90106658626|   1.119670658563342|  NULL|49.42486660887611|1.120543728716091|1.4159983656160842|                NULL|1.1163089440263205|    NULL|14410.977499609877|340190.81112818094| 2.582373399229366|  NULL| NULL|14.405000189455322|1.1180915351497904|  1.1179177368667783|          0.0|1.1189328629614141|11.575819199184258|  1.7081516663464946|1.1141199158365949|8.934229748513532| 6.034377762810301|   5.999055730779056|   6.009613147899259|\n",
            "|    min|               18|Attrition|BusinessTravel|               100|Department|                 1|                 1|  EducationField|            1|                1|                   1|Female|              100|                1|                 1|           Developer|                 1|Divorced|             10000|            100000|                 0|Over18|   No|                 0|                 1|                   1|           80|                 1|                 1|                   1|                 1|                1|                 1|                   1|                   1|\n",
            "|    max|              Age|      Yes| Travel_Rarely|         DailyRate|   Support|  DistanceFromHome|         Education|Technical Degree|EmployeeCount|   EmployeeNumber|EnvironmentSatisf...|  Male|       HourlyRate|   JobInvolvement|          JobLevel|Sales Representative|   JobSatisfaction|  Single|     MonthlyIncome|       MonthlyRate|NumCompaniesWorked|     Y|  Yes| PercentSalaryHike| PerformanceRating|RelationshipSatis...|StandardHours|  StockOptionLevel| TotalWorkingYears|TrainingTimesLast...|   WorkLifeBalance|   YearsAtCompany|YearsInCurrentRole|YearsSinceLastPro...|YearsWithCurrManager|\n",
            "+-------+-----------------+---------+--------------+------------------+----------+------------------+------------------+----------------+-------------+-----------------+--------------------+------+-----------------+-----------------+------------------+--------------------+------------------+--------+------------------+------------------+------------------+------+-----+------------------+------------------+--------------------+-------------+------------------+------------------+--------------------+------------------+-----------------+------------------+--------------------+--------------------+\n",
            "\n"
          ]
        }
      ]
    }
  ]
}